{
 "cells": [
  {
   "cell_type": "markdown",
   "metadata": {},
   "source": [
    "# Attacking a CNN\n",
    "\n",
    "In this exercise we will train a CNN to distinguish between handwritten `0` and `1`. We will be using `keras` to do this.  \n",
    "\n",
    "Once we have a trained classifier we will be using `cleverhans` to create adversarial examples"
   ]
  },
  {
   "cell_type": "code",
   "execution_count": null,
   "metadata": {},
   "outputs": [],
   "source": [
    "import warnings\n",
    "import numpy as np\n",
    "import os\n",
    "with warnings.catch_warnings():\n",
    "    import keras # keras is still using some deprectade code\n",
    "from keras.layers import Conv2D, MaxPooling2D, Dropout, Flatten, Dense\n",
    "from cleverhans.utils_keras import KerasModelWrapper\n",
    "from cleverhans.attacks import BasicIterativeMethod, FastGradientMethod, CarliniWagnerL2\n",
    "%matplotlib inline \n",
    "import matplotlib.pyplot as plt\n",
    "import tensorflow as tf"
   ]
  },
  {
   "cell_type": "markdown",
   "metadata": {},
   "source": [
    "The MNIST dataset contains data for all the digits. We are only interesstend in the 1s and 0s though. therefore we are extracting those from the dataset. \n",
    "\n",
    "We also need to normalize the data. This means that what ever intervall the input values have been in willbe squashed to `[0,1]`"
   ]
  },
  {
   "cell_type": "code",
   "execution_count": null,
   "metadata": {
    "collapsed": true
   },
   "outputs": [],
   "source": [
    "def exract_ones_and_zeroes( data, labels ):\n",
    "    # data_zeroes = data[ np.argwhere( labels == 0 ) ]\n",
    "    # data_ones = data[ np.argwhere( labels == 1 ) ]\n",
    "    data_zeroes = data[ np.argwhere( labels == 0 ).reshape( -1 ) ][ :200 ]\n",
    "    print( data_zeroes.shape )\n",
    "    data_ones = data[ np.argwhere( labels == 1 ).reshape( -1 ) ][ :200 ]\n",
    "    x = np.vstack( (data_zeroes, data_ones) )\n",
    "\n",
    "    # normalize the data\n",
    "    x = x / 255.\n",
    "\n",
    "    labels_zeroes = np.zeros( data_zeroes.shape[ 0 ] )\n",
    "    labels_ones = np.ones( data_ones.shape[ 0 ] )\n",
    "    y = np.append( labels_zeroes, labels_ones )\n",
    "\n",
    "    return x, y"
   ]
  },
  {
   "cell_type": "markdown",
   "metadata": {},
   "source": [
    "Load the actuall data and us our preprocessing function from earlier"
   ]
  },
  {
   "cell_type": "code",
   "execution_count": null,
   "metadata": {},
   "outputs": [],
   "source": [
    "mnist_file = os.path.join( 'data', 'mnist', 'mnist.npz' )\n",
    "\n",
    "# load the data\n",
    "f = np.load( mnist_file )\n",
    "x_train, y_train = f[ 'x_train' ], f[ 'y_train' ]\n",
    "print( 'x_train', x_train.shape )\n",
    "print( 'y_train', y_train.shape )\n",
    "\n",
    "x_test, y_test = f[ 'x_test' ], f[ 'y_test' ]\n",
    "print( 'x_test', x_test.shape )\n",
    "print( 'y_test', y_test.shape )\n",
    "f.close( )\n",
    "\n",
    "# extract ones and zeroes\n",
    "x_train, y_train = exract_ones_and_zeroes( x_train, y_train )\n",
    "x_test, y_test = exract_ones_and_zeroes( x_test, y_test )\n"
   ]
  },
  {
   "cell_type": "markdown",
   "metadata": {},
   "source": [
    "We need to do some more data preprocessing so keras will be happy."
   ]
  },
  {
   "cell_type": "code",
   "execution_count": null,
   "metadata": {
    "collapsed": true
   },
   "outputs": [],
   "source": [
    "# we need to bring the data in to a format that our cnn likes\n",
    "y_train = keras.utils.to_categorical( y_train, 2 )\n",
    "y_test = keras.utils.to_categorical( y_test, 2 )\n",
    "\n",
    "if keras.backend.image_data_format( ) == 'channels_first':\n",
    "    x_train = x_train.reshape( x_train.shape[ 0 ], 1, x_train.shape[ 1 ], x_train.shape[ 2 ] )\n",
    "    x_test = x_test.reshape( x_test.shape[ 0 ], 1, x_train.shape[ 1 ], x_train.shape[ 2 ] )\n",
    "    input_shape = (1, x_train.shape[ 1 ], x_train.shape[ 2 ])\n",
    "else:\n",
    "    x_train = x_train.reshape( x_train.shape[ 0 ], x_train.shape[ 1 ], x_train.shape[ 2 ], 1 )\n",
    "    x_test = x_test.reshape( x_test.shape[ 0 ], x_train.shape[ 1 ], x_train.shape[ 2 ], 1 )\n",
    "    input_shape = (x_train.shape[ 1 ], x_train.shape[ 2 ], 1)\n",
    "\n"
   ]
  },
  {
   "cell_type": "markdown",
   "metadata": {},
   "source": [
    "We need to make sure that `cleverhans` has access to our model graph. To do this we make sure that `keras` uses the same `tensorflow` session that `cleverhans` will be using. "
   ]
  },
  {
   "cell_type": "code",
   "execution_count": null,
   "metadata": {
    "collapsed": true
   },
   "outputs": [],
   "source": [
    "# need to some setup so everything gets excecuted in the same tensorflow session\n",
    "session = tf.Session( )\n",
    "keras.backend.set_session( session )"
   ]
  },
  {
   "cell_type": "markdown",
   "metadata": {},
   "source": [
    "We are using a very simple CNN. For our two output classes this probably overkill. This network can be used to distinguish between all 10 classes with very high accuracy."
   ]
  },
  {
   "cell_type": "code",
   "execution_count": null,
   "metadata": {},
   "outputs": [],
   "source": [
    "# define the classifier\n",
    "clf = keras.Sequential( )\n",
    "clf.add( Conv2D( 32, kernel_size=(3, 3), activation='relu', input_shape=input_shape ) )\n",
    "clf.add( Conv2D( 64, (3, 3), activation='relu' ) )\n",
    "clf.add( MaxPooling2D( pool_size=(2, 2) ) )\n",
    "clf.add( Dropout( 0.25 ) )\n",
    "clf.add( Flatten( ) )\n",
    "clf.add( Dense( 128, activation='relu' ) )\n",
    "clf.add( Dropout( 0.5 ) )\n",
    "clf.add( Dense( 2, activation='softmax' ) )\n",
    "\n",
    "clf.compile( loss=keras.losses.categorical_crossentropy,\n",
    "             optimizer='adam',\n",
    "             metrics=[ 'accuracy' ] )\n",
    "\n",
    "clf.fit( x_train, y_train,\n",
    "         epochs=2,\n",
    "         verbose=1 )\n",
    "#clf.summary( )\n",
    "score = clf.evaluate( x_test, y_test, verbose=0 )\n",
    "print( 'Test loss:', score[ 0 ] )\n",
    "print( 'Test accuracy:', score[ 1 ] )\n"
   ]
  },
  {
   "cell_type": "markdown",
   "metadata": {},
   "source": [
    "Let's get to the actuall attack magic. First we are picking sample that we want to pertubate. After we using the FGSM attack the the Carlini & Wagner L2 attack to pertubate it into and adversarial example."
   ]
  },
  {
   "cell_type": "code",
   "execution_count": null,
   "metadata": {},
   "outputs": [],
   "source": [
    "#chose a sample to pertubate\n",
    "sample_ind = 100\n",
    "\n",
    "# picking a test sample\n",
    "sample = x_test[ sample_ind, : ]\n",
    "\n",
    "\n",
    "# plot the first instance in the traning set\n",
    "plt.imshow( sample.reshape( 28, 28 ), cmap=\"gray_r\" )\n",
    "plt.axis( 'off' )\n",
    "plt.show( )\n",
    "\n",
    "# constructing adversarial examples\n",
    "print( 'class prediction for the test samples:',\n",
    "       clf.predict( sample.reshape( (1, sample.shape[ 0 ], sample.shape[ 1 ], sample.shape[ 2 ]) ) ) )\n",
    "# setup the attack\n",
    "wrapper = KerasModelWrapper( clf )\n",
    "fgm = FastGradientMethod( wrapper, sess=session )\n",
    "eps = 0.3  # allowed maximum modification\n",
    "\n",
    "# excetute the attack\n",
    "with warnings.catch_warnings():\n",
    "    modified_sample = fgm.generate_np( sample.reshape( (1, sample.shape[ 0 ], sample.shape[ 1 ], sample.shape[ 2 ]) ),\n",
    "                                   **{ 'eps': eps } )\n",
    "\n",
    "print( 'class prediction for the modified test samples:',\n",
    "       clf.predict( modified_sample.reshape( (1, sample.shape[ 0 ], sample.shape[ 1 ], sample.shape[ 2 ]) ) ) )\n",
    "plt.imshow( modified_sample.reshape( 28, 28 ), cmap=\"gray_r\" )\n",
    "plt.axis( 'off' )\n",
    "plt.show( )\n",
    "\n",
    "# let's try a stronger attack\n",
    "with warnings.catch_warnings():\n",
    "    cw_l2 = CarliniWagnerL2( wrapper, sess=session )\n",
    "    modified_sample = cw_l2.generate_np( sample.reshape( (1, sample.shape[ 0 ], sample.shape[ 1 ], sample.shape[ 2 ]) ),\n",
    "                                     **{ 'eps': eps } )\n",
    "\n",
    "print( 'class prediction for the cw modified test samples:',\n",
    "       clf.predict( modified_sample.reshape( (1, sample.shape[ 0 ], sample.shape[ 1 ], sample.shape[ 2 ]) ) ) )\n",
    "plt.imshow( modified_sample.reshape( 28, 28 ), cmap=\"gray_r\" )\n",
    "plt.axis( 'off' )\n",
    "plt.show( )\n"
   ]
  },
  {
   "cell_type": "code",
   "execution_count": null,
   "metadata": {
    "collapsed": true
   },
   "outputs": [],
   "source": []
  }
 ],
 "metadata": {
  "kernelspec": {
   "display_name": "Python 3",
   "language": "python",
   "name": "python3"
  },
  "language_info": {
   "codemirror_mode": {
    "name": "ipython",
    "version": 3
   },
   "file_extension": ".py",
   "mimetype": "text/x-python",
   "name": "python",
   "nbconvert_exporter": "python",
   "pygments_lexer": "ipython3",
   "version": "3.6.4"
  }
 },
 "nbformat": 4,
 "nbformat_minor": 2
}
