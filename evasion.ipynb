{
 "cells": [
  {
   "cell_type": "markdown",
   "metadata": {},
   "source": [
    "# Evading SVMs\n",
    "\n",
    "In this section we will be training an SVM to distinguish between 0,1. The data is coming from the MNIST dataset which contains handwritten digits. We will be using the `scikit-learn` for the SVM training. "
   ]
  },
  {
   "cell_type": "markdown",
   "metadata": {},
   "source": [
    "First let's start out by importing a few essentials"
   ]
  },
  {
   "cell_type": "code",
   "execution_count": null,
   "metadata": {},
   "outputs": [],
   "source": [
    "from sklearn import svm\n",
    "import numpy as np\n",
    "import os\n",
    "import matplotlib.pyplot as plt"
   ]
  },
  {
   "cell_type": "markdown",
   "metadata": {},
   "source": [
    "Since we are only interessted in the 1s and 0s in the data we will need to pick those out. Since we need to this for botht the test and training data let's write a function for it.\n",
    "\n",
    "This function does a few other things aswell. \n",
    "- It normalizes the data, bringing it into the interval [0,1]\n",
    "- It is also only using a part of the data to makes things a bit faster\n",
    "- It also reshapes the data so we can use it with SVMs"
   ]
  },
  {
   "cell_type": "code",
   "execution_count": null,
   "metadata": {},
   "outputs": [],
   "source": [
    "def exract_ones_and_zeroes( data, labels ):\n",
    "    data_zeroes = data[ np.argwhere( labels == 0 ) ][ :200 ]\n",
    "    data_ones = data[ np.argwhere( labels == 1 ) ][ :200 ]\n",
    "    x = np.vstack( (data_zeroes, data_ones) )\n",
    "\n",
    "    x = x.reshape( (x.shape[ 0 ], -1) ) / 255.\n",
    "\n",
    "    print( x.shape )\n",
    "\n",
    "    labels_zeroes = np.zeros( data_zeroes.shape[ 0 ] ) - 1.0\n",
    "    labels_ones = np.ones( data_ones.shape[ 0 ] )\n",
    "    y = np.append( labels_zeroes, labels_ones )\n",
    "\n",
    "    return x, y"
   ]
  },
  {
   "cell_type": "markdown",
   "metadata": {},
   "source": [
    "Next we need to load the data and spilt it into the correct parts"
   ]
  },
  {
   "cell_type": "code",
   "execution_count": null,
   "metadata": {},
   "outputs": [],
   "source": [
    "mnist_file = os.path.join( 'data', 'mnist', 'mnist.npz' )\n",
    "\n",
    "# load the data\n",
    "f = np.load( mnist_file )\n",
    "x_train, y_train = f[ 'x_train' ], f[ 'y_train' ]\n",
    "print( 'x_train', x_train.shape )\n",
    "print( 'y_train', y_train.shape )\n",
    "\n",
    "x_test, y_test = f[ 'x_test' ], f[ 'y_test' ]\n",
    "print( 'x_test', x_test.shape )\n",
    "print( 'y_test', y_test.shape )\n",
    "\n",
    "f.close( )\n",
    "\n",
    "# extract ones and zeroes\n",
    "x_train, y_train = exract_ones_and_zeroes( x_train, y_train )\n",
    "x_test, y_test = exract_ones_and_zeroes( x_test, y_test )"
   ]
  },
  {
   "cell_type": "markdown",
   "metadata": {},
   "source": [
    "We are going to define a SVM with a RFB kernel and train it. \n",
    "Once training is done we are going to print the accuracy and show one of the images"
   ]
  },
  {
   "cell_type": "code",
   "execution_count": null,
   "metadata": {},
   "outputs": [],
   "source": [
    "clf = svm.SVC( )\n",
    "clf.fit( x_train, y_train )\n",
    "print( 'accuracy on test set:', clf.score( x_test, y_test ) )\n",
    "\n",
    "# plot the first instance in the traning set\n",
    "plt.imshow( x_test[ 0 ].reshape( 28, 28 ), cmap=\"gray_r\" )\n",
    "plt.axis( 'off' )\n",
    "plt.show( )"
   ]
  },
  {
   "cell_type": "markdown",
   "metadata": {},
   "source": [
    "To evade the classifier we first pick a sample that we want to change. After that we need to retrive some of the parameters of the SVM which we will need to calculate the gradients"
   ]
  },
  {
   "cell_type": "code",
   "execution_count": null,
   "metadata": {},
   "outputs": [],
   "source": [
    "# constructing adversarial examples\n",
    "sample = x_test[ 300 ]\n",
    "print( 'class prediction for the test samples:', clf.predict( [ sample ] ) )\n",
    "\n",
    "# Retrieve the internal parameters from the SVM\n",
    "alpha = clf.dual_coef_\n",
    "svs = clf.support_vectors_\n",
    "nsv = svs.shape[ 0 ]\n",
    "b = clf.intercept_\n",
    "\n",
    "plt.imshow( sample.reshape( 28, 28 ), cmap=\"gray_r\" )\n",
    "plt.axis( 'off' )\n",
    "plt.show( )"
   ]
  },
  {
   "cell_type": "markdown",
   "metadata": {},
   "source": [
    "Now that we have the internal parameters we can calcuate the gradients of the SVM and apply the modifications to t our selected sample"
   ]
  },
  {
   "cell_type": "code",
   "execution_count": null,
   "metadata": {},
   "outputs": [],
   "source": [
    "# the sample we modify\n",
    "mod_sample = sample[ : ]\n",
    "\n",
    "# lambda, strength of the modification\n",
    "lmbd = 10.6\n",
    "\n",
    "# Compute the kernel row matrix and kernel gradients for xc\n",
    "\n",
    "kgrad = np.empty( svs.shape )\n",
    "# do multiple update rounds\n",
    "for n in range(1):\n",
    "    # for all support vectors\n",
    "    for i in range( nsv ):\n",
    "        sv = svs[ i, : ]  # support vector x_i\n",
    "        k = -2 * clf._gamma * np.exp( -clf._gamma * np.sqrt( np.sum( np.square( mod_sample - svs ) ) ) ) * (\n",
    "                mod_sample - sv)\n",
    "        dk = clf._gamma * k * (svs[ i, : ] - mod_sample)\n",
    "        kgrad[ i, : ] = k\n",
    "\n",
    "    grad = -1. * np.dot( alpha, kgrad )\n",
    "\n",
    "    # modify the sample\n",
    "    mod_sample = np.clip( mod_sample + lmbd * grad, 0.,1.)\n",
    "\n",
    "mod_sample = np.clip( mod_sample, 0., 1. )\n",
    "print( 'class prediction for the original sample:', clf.predict( [sample] ) )\n",
    "print( 'class prediction for the modified sample:', clf.predict( mod_sample ) )\n",
    "print( 'original sample:')\n",
    "plt.imshow( sample.reshape( 28, 28 ), cmap=\"gray_r\" )\n",
    "plt.show( )\n",
    "print( 'modified sample:')\n",
    "plt.imshow( mod_sample.reshape( 28, 28 ), cmap=\"gray_r\" )\n",
    "plt.show( )\n",
    "\n",
    "\n",
    "print( 'difference between the tow samples:')\n",
    "plt.imshow( np.abs(sample-mod_sample).reshape( 28, 28 ), cmap=\"gray_r\" )\n",
    "plt.show( )"
   ]
  }
 ],
 "metadata": {
  "kernelspec": {
   "display_name": "Python 3",
   "language": "python",
   "name": "python3"
  },
  "language_info": {
   "codemirror_mode": {
    "name": "ipython",
    "version": 3
   },
   "file_extension": ".py",
   "mimetype": "text/x-python",
   "name": "python",
   "nbconvert_exporter": "python",
   "pygments_lexer": "ipython3",
   "version": "3.6.4"
  }
 },
 "nbformat": 4,
 "nbformat_minor": 2
}
